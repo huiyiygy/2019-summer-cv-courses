{
 "cells": [
  {
   "cell_type": "markdown",
   "metadata": {
    "toc": true
   },
   "source": [
    "<h1>目录<span class=\"tocSkip\"></span></h1>\n",
    "<div class=\"toc\"><ul class=\"toc-item\"><li><span><a href=\"#题目描述\" data-toc-modified-id=\"题目描述-1\">题目描述</a></span></li><li><span><a href=\"#分析\" data-toc-modified-id=\"分析-2\">分析</a></span></li><li><span><a href=\"#计算\" data-toc-modified-id=\"计算-3\">计算</a></span></li></ul></div>"
   ]
  },
  {
   "cell_type": "markdown",
   "metadata": {
    "collapsed": true
   },
   "source": [
    "# 题目描述\n",
    "A person is swimming across several rivers. \n",
    "Speeds of those rivers are different: $v_1, v_2, …, v_n$. To simplify this problem, we only consider the speed in vertical direction.\n",
    "\n",
    "The person's speed is $v$. It's a constant, no way to change that. And the angle of the person's velocity to horizontal line is $a_1, a_2, …, a_n$.\n",
    "\n",
    "The total time for swimming is $T$. And the person must pass those rivers.\n",
    "\n",
    "Your task is:\n",
    "Find out an equation to determine by choosing what angles $(a_1, a_2, …, a_n)$ the person can get maximum distance in vertical direction (That is to say, please maximize dh by determining $a_1, a_2, …, a_n$) under the total time $T$. (You are not required to give out concrete angle numbers, a \"cost function\" that can be derived from is enough)\n",
    "\n",
    "Tips:\n",
    "For this question, a mathematical tool you may need is called \"Lagrangian Multiplier\". Which means, when you provide a formula, say $E$, which still need to satisfy some more conditions, say $a > 1$, for the convenience of calculating, we can write those 2 parts (formula $E$ and condition $a > 1$) together as one new formula. Here the new formula will be:$ E – \\lambda(a - 1)$.\n",
    "\n",
    "![Mathematics](./img/Mathematics.png)\n",
    "\n",
    "参考资料：\n",
    "\n",
    "[拉格朗日乘数-维基百科](https://zh.wikipedia.org/wiki/%E6%8B%89%E6%A0%BC%E6%9C%97%E6%97%A5%E4%B9%98%E6%95%B0)\n",
    "\n",
    "[Lagrange multipliers with visualizations and code](https://towardsdatascience.com/lagrange-multipliers-with-pictures-and-code-ace8018dac5e)\n",
    "\n",
    "[Is there anyone to help me for Lagrange multipliers method?](https://ww2.mathworks.cn/matlabcentral/answers/436044-is-there-anyone-to-help-me-for-lagrange-multipliers-method)"
   ]
  },
  {
   "cell_type": "markdown",
   "metadata": {},
   "source": [
    "# 分析\n",
    "在数学中的最优化问题中，拉格朗日乘数法是一种寻找多元函数在其变量受到一个或多个条件的约束时的极值的方法。这种方法可以将一个有n个变量与k个约束条件的最优化问题转换为一个解有n + k个变量的方程组的解的问题。这种方法中引入了一个或一组新的未知数，即拉格朗日乘数，又称拉格朗日乘子，或拉氏乘子，它们是在转换后的方程，即约束方程中作为梯度（gradient）的线性组合中各个向量的系数。\n",
    "\n",
    "本题中，我们已知：\n",
    "\n",
    "河水流速$V_{water}={v_1, v_2,..., v_n}$\n",
    "\n",
    "河宽$S={s_1, s_2,..., s_n}$\n",
    "\n",
    "人游泳速度$V$\n",
    "\n",
    "游过所有河总用时$T$\n",
    "\n",
    "未知:\n",
    "\n",
    "人在每条河中游的角度$\\alpha={\\alpha_1, \\alpha_2,...,\\alpha_n}$\n",
    "\n",
    "要使得人在游过所有河时竖直方向上前进的距离$dh$最大。\n",
    "\n",
    "我们可以列出下面式子：\n",
    "\n",
    "$$\n",
    "\\begin{split}\n",
    "g(\\alpha) &= T \\\\\n",
    "&= \\sum_i^n\\frac{S_i}{V \\times cos(\\alpha_i)}= \\sum(\\frac{S}{V}\\frac{1}{cos(\\alpha)})\n",
    "\\end{split}\\tag{1}\n",
    "$$\n",
    "$$\n",
    "\\begin{split}\n",
    "dh=f(\\alpha) &= \\sum_i^n[(V_{water_i}+V \\times sin(\\alpha_i)) \\times g(\\alpha_i)] \\\\\n",
    "&= \\sum_i^n [(V_{water_i}+V \\times sin(\\alpha_i))\\times \\frac{S_i}{V \\times cos(\\alpha_i)}] \\\\\n",
    "&= \\sum[(V_{water}+V \\times sin(\\alpha))\\times \\frac{S}{V cos(\\alpha)}] \\\\\n",
    "&= \\sum[\\frac{V_{water}S}{V}\\frac{1}{ cos(\\alpha)}+S\\frac{sin(\\alpha)}{cos(\\alpha)}]\n",
    "\\end{split}\\tag{2}\n",
    "$$\n",
    "\n",
    "要求 $ f(\\alpha)$,在 $g(\\alpha)=T$时的最大值时，我们可以引入新变量拉格朗日乘数 $\\lambda$ ，这时我们只需要求下列拉格朗日函数的极值即可：\n",
    "$$\n",
    "\\begin{split}\n",
    "F(\\alpha, \\lambda) &= f(\\alpha) + \\lambda*(g(\\alpha)-T) \\\\\n",
    "&= \\sum[\\frac{V_{water}S}{V}\\frac{1}{ cos(\\alpha)}+S\\frac{sin(\\alpha)}{cos(\\alpha)} + \\lambda*(\\sum(\\frac{S}{V}\\frac{1}{cos(\\alpha)})-T) ]\n",
    "\\end{split}\\tag{3}\n",
    "$$\n",
    "这意味着$f$ 和$g$ 的切线在某点上平行，同时也意味着两者的梯度向量有如下关系:\n",
    "$$\n",
    "\\nabla f(\\alpha)= -\\nabla \\lambda(g(\\alpha)-T)\\tag{4} \n",
    "$$\n",
    "即：\n",
    "$$\n",
    "\\nabla F(\\alpha, \\lambda)=\\nabla [f(\\alpha)+\\lambda*(g(\\alpha)-T)]= 0 \\tag{5} \n",
    "$$\n",
    "一旦求出 $\\lambda$ 的值，将其代入公式$(3)$，易求在无约束条件下的极值和对应的极值点。新方程 $ F(\\alpha, \\lambda)$在达到极值时与 $f(\\alpha)$相等，因为 $ F(\\alpha, \\lambda)$达到极值时 $g(\\alpha)-T$总等于零。将所有$F(\\alpha, \\lambda)$ 方程的偏微分设为零，得到一个方程组，最小值是以下方程组的解中的一个："
   ]
  },
  {
   "cell_type": "markdown",
   "metadata": {},
   "source": [
    "$$\n",
    "\\begin{split}\n",
    "\\frac{\\partial F}{\\partial \\alpha} &= \\frac{V_{water}S}{V}\\frac{\\sin(\\alpha)}{ \\cos(\\alpha)}+S\\frac{1}{ \\cos^2(\\alpha)}+\\lambda*\\frac{S}{V}\\frac{\\sin(\\alpha)}{cos(\\alpha)} \\\\\n",
    "&=S[\\frac{V_{water}+\\lambda}{V}*\\frac{\\sin(\\alpha)}{ \\cos(\\alpha)}+ \\frac{1}{ \\cos^2(\\alpha)}]= 0\n",
    "\\end{split}\\tag{6}\n",
    "$$\n"
   ]
  },
  {
   "cell_type": "markdown",
   "metadata": {},
   "source": [
    "$$\n",
    "\\frac{\\partial F}{\\partial \\lambda}= \\frac{S}{V}\\frac{1}{cos(\\alpha)})-T=0\\tag{7}\n",
    "$$"
   ]
  },
  {
   "cell_type": "markdown",
   "metadata": {},
   "source": [
    "# 计算\n",
    "由公式$(7)$可得：\n",
    "$$\\cos(\\alpha)=\\frac{S}{TV}\\tag{8}$$"
   ]
  },
  {
   "cell_type": "markdown",
   "metadata": {},
   "source": [
    "将其带入$(6)$中初步化简得：\n",
    "$$\n",
    "T(V_{water}+\\lambda)*\\sin(\\alpha)+\\frac{T^2V^2}{S}=0\\tag{9}\n",
    "$$\n",
    "T不为0故可划去，得：\n",
    "$$\n",
    "(V_{water}+\\lambda)*\\sin(\\alpha)+\\frac{TV^2}{S}=0\\tag{10}\n",
    "$$\n",
    "$$\n",
    "\\lambda=-\\frac{TV^2+SV_{water}\\sin(\\alpha)}{S\\sin(\\alpha)}\\tag{11}\n",
    "$$"
   ]
  }
 ],
 "metadata": {
  "kernelspec": {
   "display_name": "Python 3",
   "language": "python",
   "name": "python3"
  },
  "language_info": {
   "codemirror_mode": {
    "name": "ipython",
    "version": 3
   },
   "file_extension": ".py",
   "mimetype": "text/x-python",
   "name": "python",
   "nbconvert_exporter": "python",
   "pygments_lexer": "ipython3",
   "version": "3.6.8"
  },
  "toc": {
   "base_numbering": 1,
   "nav_menu": {},
   "number_sections": false,
   "sideBar": true,
   "skip_h1_title": false,
   "title_cell": "目录",
   "title_sidebar": "Contents",
   "toc_cell": true,
   "toc_position": {},
   "toc_section_display": true,
   "toc_window_display": true
  }
 },
 "nbformat": 4,
 "nbformat_minor": 1
}
